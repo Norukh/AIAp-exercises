{
 "cells": [
  {
   "cell_type": "code",
   "execution_count": 8,
   "id": "f0dc5432",
   "metadata": {},
   "outputs": [
    {
     "name": "stdout",
     "output_type": "stream",
     "text": [
      "Requirement already satisfied: pandas-datareader in /Users/mitra/miniforge3/lib/python3.9/site-packages (0.10.0)\n",
      "Requirement already satisfied: requests>=2.19.0 in /Users/mitra/miniforge3/lib/python3.9/site-packages (from pandas-datareader) (2.27.1)\n",
      "Requirement already satisfied: pandas>=0.23 in /Users/mitra/miniforge3/lib/python3.9/site-packages (from pandas-datareader) (1.4.1)\n",
      "Requirement already satisfied: lxml in /Users/mitra/miniforge3/lib/python3.9/site-packages (from pandas-datareader) (4.9.1)\n",
      "Requirement already satisfied: python-dateutil>=2.8.1 in /Users/mitra/miniforge3/lib/python3.9/site-packages (from pandas>=0.23->pandas-datareader) (2.8.2)\n",
      "Requirement already satisfied: pytz>=2020.1 in /Users/mitra/miniforge3/lib/python3.9/site-packages (from pandas>=0.23->pandas-datareader) (2022.7.1)\n",
      "Requirement already satisfied: numpy>=1.20.0 in /Users/mitra/miniforge3/lib/python3.9/site-packages (from pandas>=0.23->pandas-datareader) (1.21.2)\n",
      "Requirement already satisfied: urllib3<1.27,>=1.21.1 in /Users/mitra/miniforge3/lib/python3.9/site-packages (from requests>=2.19.0->pandas-datareader) (1.26.8)\n",
      "Requirement already satisfied: idna<4,>=2.5 in /Users/mitra/miniforge3/lib/python3.9/site-packages (from requests>=2.19.0->pandas-datareader) (3.3)\n",
      "Requirement already satisfied: certifi>=2017.4.17 in /Users/mitra/miniforge3/lib/python3.9/site-packages (from requests>=2.19.0->pandas-datareader) (2021.10.8)\n",
      "Requirement already satisfied: charset-normalizer~=2.0.0 in /Users/mitra/miniforge3/lib/python3.9/site-packages (from requests>=2.19.0->pandas-datareader) (2.0.12)\n",
      "Requirement already satisfied: six>=1.5 in /Users/mitra/miniforge3/lib/python3.9/site-packages (from python-dateutil>=2.8.1->pandas>=0.23->pandas-datareader) (1.15.0)\n",
      "Requirement already satisfied: pandas-datareader in /Users/mitra/miniforge3/lib/python3.9/site-packages (0.10.0)\n",
      "Requirement already satisfied: lxml in /Users/mitra/miniforge3/lib/python3.9/site-packages (from pandas-datareader) (4.9.1)\n",
      "Requirement already satisfied: pandas>=0.23 in /Users/mitra/miniforge3/lib/python3.9/site-packages (from pandas-datareader) (1.4.1)\n",
      "Requirement already satisfied: requests>=2.19.0 in /Users/mitra/miniforge3/lib/python3.9/site-packages (from pandas-datareader) (2.27.1)\n",
      "Requirement already satisfied: python-dateutil>=2.8.1 in /Users/mitra/miniforge3/lib/python3.9/site-packages (from pandas>=0.23->pandas-datareader) (2.8.2)\n",
      "Requirement already satisfied: pytz>=2020.1 in /Users/mitra/miniforge3/lib/python3.9/site-packages (from pandas>=0.23->pandas-datareader) (2022.7.1)\n",
      "Requirement already satisfied: numpy>=1.20.0 in /Users/mitra/miniforge3/lib/python3.9/site-packages (from pandas>=0.23->pandas-datareader) (1.21.2)\n",
      "Requirement already satisfied: charset-normalizer~=2.0.0 in /Users/mitra/miniforge3/lib/python3.9/site-packages (from requests>=2.19.0->pandas-datareader) (2.0.12)\n",
      "Requirement already satisfied: urllib3<1.27,>=1.21.1 in /Users/mitra/miniforge3/lib/python3.9/site-packages (from requests>=2.19.0->pandas-datareader) (1.26.8)\n",
      "Requirement already satisfied: certifi>=2017.4.17 in /Users/mitra/miniforge3/lib/python3.9/site-packages (from requests>=2.19.0->pandas-datareader) (2021.10.8)\n",
      "Requirement already satisfied: idna<4,>=2.5 in /Users/mitra/miniforge3/lib/python3.9/site-packages (from requests>=2.19.0->pandas-datareader) (3.3)\n",
      "Requirement already satisfied: six>=1.5 in /Users/mitra/miniforge3/lib/python3.9/site-packages (from python-dateutil>=2.8.1->pandas>=0.23->pandas-datareader) (1.15.0)\n"
     ]
    }
   ],
   "source": [
    "!pip install --upgrade pandas-datareader\n",
    "\n",
    "!pip install pandas-datareader"
   ]
  },
  {
   "cell_type": "code",
   "execution_count": 9,
   "id": "0e978521",
   "metadata": {},
   "outputs": [
    {
     "name": "stdout",
     "output_type": "stream",
     "text": [
      "Requirement already satisfied: yfinance in /Users/mitra/miniforge3/lib/python3.9/site-packages (0.2.12)\n",
      "Requirement already satisfied: multitasking>=0.0.7 in /Users/mitra/miniforge3/lib/python3.9/site-packages (from yfinance) (0.0.11)\n",
      "Requirement already satisfied: frozendict>=2.3.4 in /Users/mitra/miniforge3/lib/python3.9/site-packages (from yfinance) (2.3.5)\n",
      "Requirement already satisfied: pandas>=1.3.0 in /Users/mitra/miniforge3/lib/python3.9/site-packages (from yfinance) (1.4.1)\n",
      "Requirement already satisfied: lxml>=4.9.1 in /Users/mitra/miniforge3/lib/python3.9/site-packages (from yfinance) (4.9.1)\n",
      "Requirement already satisfied: appdirs>=1.4.4 in /Users/mitra/miniforge3/lib/python3.9/site-packages (from yfinance) (1.4.4)\n",
      "Requirement already satisfied: cryptography>=3.3.2 in /Users/mitra/miniforge3/lib/python3.9/site-packages (from yfinance) (36.0.1)\n",
      "Requirement already satisfied: beautifulsoup4>=4.11.1 in /Users/mitra/miniforge3/lib/python3.9/site-packages (from yfinance) (4.11.2)\n",
      "Requirement already satisfied: requests>=2.26 in /Users/mitra/miniforge3/lib/python3.9/site-packages (from yfinance) (2.27.1)\n",
      "Requirement already satisfied: html5lib>=1.1 in /Users/mitra/miniforge3/lib/python3.9/site-packages (from yfinance) (1.1)\n",
      "Requirement already satisfied: pytz>=2022.5 in /Users/mitra/miniforge3/lib/python3.9/site-packages (from yfinance) (2022.7.1)\n",
      "Requirement already satisfied: numpy>=1.16.5 in /Users/mitra/miniforge3/lib/python3.9/site-packages (from yfinance) (1.21.2)\n",
      "Requirement already satisfied: soupsieve>1.2 in /Users/mitra/miniforge3/lib/python3.9/site-packages (from beautifulsoup4>=4.11.1->yfinance) (2.3.1)\n",
      "Requirement already satisfied: cffi>=1.12 in /Users/mitra/miniforge3/lib/python3.9/site-packages (from cryptography>=3.3.2->yfinance) (1.15.0)\n",
      "Requirement already satisfied: six>=1.9 in /Users/mitra/miniforge3/lib/python3.9/site-packages (from html5lib>=1.1->yfinance) (1.15.0)\n",
      "Requirement already satisfied: webencodings in /Users/mitra/miniforge3/lib/python3.9/site-packages (from html5lib>=1.1->yfinance) (0.5.1)\n",
      "Requirement already satisfied: python-dateutil>=2.8.1 in /Users/mitra/miniforge3/lib/python3.9/site-packages (from pandas>=1.3.0->yfinance) (2.8.2)\n",
      "Requirement already satisfied: charset-normalizer~=2.0.0 in /Users/mitra/miniforge3/lib/python3.9/site-packages (from requests>=2.26->yfinance) (2.0.12)\n",
      "Requirement already satisfied: urllib3<1.27,>=1.21.1 in /Users/mitra/miniforge3/lib/python3.9/site-packages (from requests>=2.26->yfinance) (1.26.8)\n",
      "Requirement already satisfied: idna<4,>=2.5 in /Users/mitra/miniforge3/lib/python3.9/site-packages (from requests>=2.26->yfinance) (3.3)\n",
      "Requirement already satisfied: certifi>=2017.4.17 in /Users/mitra/miniforge3/lib/python3.9/site-packages (from requests>=2.26->yfinance) (2021.10.8)\n",
      "Requirement already satisfied: pycparser in /Users/mitra/miniforge3/lib/python3.9/site-packages (from cffi>=1.12->cryptography>=3.3.2->yfinance) (2.21)\n"
     ]
    }
   ],
   "source": [
    "!pip install yfinance"
   ]
  },
  {
   "cell_type": "markdown",
   "id": "f82b6f4f",
   "metadata": {},
   "source": [
    "# Reading data\n",
    "\n",
    "Pandas datareader provides a function get_data_yahoo to directly fetch the stock data of the specified stock from Yahoo Finance for the given duration. WE are extracting the Netflix stock price between the duration from till today."
   ]
  },
  {
   "cell_type": "code",
   "execution_count": 10,
   "id": "9912b4b4",
   "metadata": {},
   "outputs": [],
   "source": [
    "import pandas_datareader.data as pdr\n",
    "import matplotlib.pyplot as plt\n",
    "import yfinance as yf\n",
    "import numpy as np\n",
    "yf.pdr_override()\n",
    "from datetime import datetime"
   ]
  },
  {
   "cell_type": "code",
   "execution_count": 11,
   "id": "8b074bee",
   "metadata": {},
   "outputs": [
    {
     "name": "stdout",
     "output_type": "stream",
     "text": [
      "[*********************100%***********************]  1 of 1 completed\n"
     ]
    },
    {
     "data": {
      "text/html": [
       "<div>\n",
       "<style scoped>\n",
       "    .dataframe tbody tr th:only-of-type {\n",
       "        vertical-align: middle;\n",
       "    }\n",
       "\n",
       "    .dataframe tbody tr th {\n",
       "        vertical-align: top;\n",
       "    }\n",
       "\n",
       "    .dataframe thead th {\n",
       "        text-align: right;\n",
       "    }\n",
       "</style>\n",
       "<table border=\"1\" class=\"dataframe\">\n",
       "  <thead>\n",
       "    <tr style=\"text-align: right;\">\n",
       "      <th></th>\n",
       "      <th>Open</th>\n",
       "      <th>High</th>\n",
       "      <th>Low</th>\n",
       "      <th>Close</th>\n",
       "      <th>Adj Close</th>\n",
       "      <th>Volume</th>\n",
       "    </tr>\n",
       "    <tr>\n",
       "      <th>Date</th>\n",
       "      <th></th>\n",
       "      <th></th>\n",
       "      <th></th>\n",
       "      <th></th>\n",
       "      <th></th>\n",
       "      <th></th>\n",
       "    </tr>\n",
       "  </thead>\n",
       "  <tbody>\n",
       "    <tr>\n",
       "      <th>2002-05-23</th>\n",
       "      <td>1.156429</td>\n",
       "      <td>1.242857</td>\n",
       "      <td>1.145714</td>\n",
       "      <td>1.196429</td>\n",
       "      <td>1.196429</td>\n",
       "      <td>104790000</td>\n",
       "    </tr>\n",
       "    <tr>\n",
       "      <th>2002-05-24</th>\n",
       "      <td>1.214286</td>\n",
       "      <td>1.225000</td>\n",
       "      <td>1.197143</td>\n",
       "      <td>1.210000</td>\n",
       "      <td>1.210000</td>\n",
       "      <td>11104800</td>\n",
       "    </tr>\n",
       "    <tr>\n",
       "      <th>2002-05-28</th>\n",
       "      <td>1.213571</td>\n",
       "      <td>1.232143</td>\n",
       "      <td>1.157143</td>\n",
       "      <td>1.157143</td>\n",
       "      <td>1.157143</td>\n",
       "      <td>6609400</td>\n",
       "    </tr>\n",
       "    <tr>\n",
       "      <th>2002-05-29</th>\n",
       "      <td>1.164286</td>\n",
       "      <td>1.164286</td>\n",
       "      <td>1.085714</td>\n",
       "      <td>1.103571</td>\n",
       "      <td>1.103571</td>\n",
       "      <td>6757800</td>\n",
       "    </tr>\n",
       "    <tr>\n",
       "      <th>2002-05-30</th>\n",
       "      <td>1.107857</td>\n",
       "      <td>1.107857</td>\n",
       "      <td>1.071429</td>\n",
       "      <td>1.071429</td>\n",
       "      <td>1.071429</td>\n",
       "      <td>10154200</td>\n",
       "    </tr>\n",
       "    <tr>\n",
       "      <th>...</th>\n",
       "      <td>...</td>\n",
       "      <td>...</td>\n",
       "      <td>...</td>\n",
       "      <td>...</td>\n",
       "      <td>...</td>\n",
       "      <td>...</td>\n",
       "    </tr>\n",
       "    <tr>\n",
       "      <th>2023-03-13</th>\n",
       "      <td>287.339996</td>\n",
       "      <td>299.239990</td>\n",
       "      <td>285.329987</td>\n",
       "      <td>293.510010</td>\n",
       "      <td>293.510010</td>\n",
       "      <td>6292400</td>\n",
       "    </tr>\n",
       "    <tr>\n",
       "      <th>2023-03-14</th>\n",
       "      <td>295.970001</td>\n",
       "      <td>297.450012</td>\n",
       "      <td>290.309998</td>\n",
       "      <td>294.940002</td>\n",
       "      <td>294.940002</td>\n",
       "      <td>5956700</td>\n",
       "    </tr>\n",
       "    <tr>\n",
       "      <th>2023-03-15</th>\n",
       "      <td>292.510010</td>\n",
       "      <td>306.309998</td>\n",
       "      <td>292.279999</td>\n",
       "      <td>303.790009</td>\n",
       "      <td>303.790009</td>\n",
       "      <td>9215300</td>\n",
       "    </tr>\n",
       "    <tr>\n",
       "      <th>2023-03-16</th>\n",
       "      <td>304.750000</td>\n",
       "      <td>316.600006</td>\n",
       "      <td>301.709991</td>\n",
       "      <td>310.059998</td>\n",
       "      <td>310.059998</td>\n",
       "      <td>7903700</td>\n",
       "    </tr>\n",
       "    <tr>\n",
       "      <th>2023-03-17</th>\n",
       "      <td>310.059998</td>\n",
       "      <td>310.760010</td>\n",
       "      <td>300.000000</td>\n",
       "      <td>303.500000</td>\n",
       "      <td>303.500000</td>\n",
       "      <td>6912100</td>\n",
       "    </tr>\n",
       "  </tbody>\n",
       "</table>\n",
       "<p>5241 rows × 6 columns</p>\n",
       "</div>"
      ],
      "text/plain": [
       "                  Open        High         Low       Close   Adj Close  \\\n",
       "Date                                                                     \n",
       "2002-05-23    1.156429    1.242857    1.145714    1.196429    1.196429   \n",
       "2002-05-24    1.214286    1.225000    1.197143    1.210000    1.210000   \n",
       "2002-05-28    1.213571    1.232143    1.157143    1.157143    1.157143   \n",
       "2002-05-29    1.164286    1.164286    1.085714    1.103571    1.103571   \n",
       "2002-05-30    1.107857    1.107857    1.071429    1.071429    1.071429   \n",
       "...                ...         ...         ...         ...         ...   \n",
       "2023-03-13  287.339996  299.239990  285.329987  293.510010  293.510010   \n",
       "2023-03-14  295.970001  297.450012  290.309998  294.940002  294.940002   \n",
       "2023-03-15  292.510010  306.309998  292.279999  303.790009  303.790009   \n",
       "2023-03-16  304.750000  316.600006  301.709991  310.059998  310.059998   \n",
       "2023-03-17  310.059998  310.760010  300.000000  303.500000  303.500000   \n",
       "\n",
       "               Volume  \n",
       "Date                   \n",
       "2002-05-23  104790000  \n",
       "2002-05-24   11104800  \n",
       "2002-05-28    6609400  \n",
       "2002-05-29    6757800  \n",
       "2002-05-30   10154200  \n",
       "...               ...  \n",
       "2023-03-13    6292400  \n",
       "2023-03-14    5956700  \n",
       "2023-03-15    9215300  \n",
       "2023-03-16    7903700  \n",
       "2023-03-17    6912100  \n",
       "\n",
       "[5241 rows x 6 columns]"
      ]
     },
     "execution_count": 11,
     "metadata": {},
     "output_type": "execute_result"
    }
   ],
   "source": [
    "df_netflix = pdr.get_data_yahoo('NFLX', datetime(1970, 1, 1))\n",
    "df_netflix"
   ]
  },
  {
   "cell_type": "code",
   "execution_count": 12,
   "id": "bc17e334",
   "metadata": {},
   "outputs": [
    {
     "data": {
      "image/png": "[encoded data removed]",
      "text/plain": [
       "<Figure size 1080x288 with 1 Axes>"
      ]
     },
     "metadata": {
      "needs_background": "light"
     },
     "output_type": "display_data"
    }
   ],
   "source": [
    "df = df_netflix['Close']\n",
    "plt.figure(figsize = (15,4))\n",
    "plt.plot(df)\n",
    "plt.title(\"Closing Price\")\n",
    "plt.show()"
   ]
  },
  {
   "cell_type": "markdown",
   "id": "c0ca841d",
   "metadata": {},
   "source": [
    "# Dividing the dataset\n",
    "Since this is time-series data, we cannot use the scikit-learn train_test_split() function because we need to preserve the order of prices. So, we will use, starting 80% of the values as a training dataset and the rest for testing. We also reshaped the datasets to make them compatible for the next step which is normalization. "
   ]
  },
  {
   "cell_type": "code",
   "execution_count": 13,
   "id": "34a85bc2",
   "metadata": {},
   "outputs": [
    {
     "data": {
      "text/plain": [
       "((4192, 1), (1049, 1))"
      ]
     },
     "execution_count": 13,
     "metadata": {},
     "output_type": "execute_result"
    }
   ],
   "source": [
    "last_index = int(len(df) * 0.8)\n",
    "train = df[:last_index].values.reshape(-1,1)\n",
    "test = df[last_index:].values.reshape(-1,1)\n",
    "train.shape, test.shape"
   ]
  },
  {
   "cell_type": "markdown",
   "id": "0bf103b2",
   "metadata": {},
   "source": [
    "# Normalization\n",
    "Normalization converts all the values in the range of 0 to 1. It improves convergence and hence reduces training time."
   ]
  },
  {
   "cell_type": "code",
   "execution_count": 14,
   "id": "8f18bf53",
   "metadata": {},
   "outputs": [
    {
     "data": {
      "text/plain": [
       "array([[0.00196746],\n",
       "       [0.00199988],\n",
       "       [0.00187361],\n",
       "       [0.00174563],\n",
       "       [0.00166884],\n",
       "       [0.00168079],\n",
       "       [0.00180535],\n",
       "       [0.00177975],\n",
       "       [0.00184972],\n",
       "       [0.00193333]])"
      ]
     },
     "execution_count": 14,
     "metadata": {},
     "output_type": "execute_result"
    }
   ],
   "source": [
    "from sklearn.preprocessing import MinMaxScaler\n",
    " \n",
    "scaler = MinMaxScaler()\n",
    "train = scaler.fit_transform(train)\n",
    "test = scaler.transform(test)\n",
    "train[:10]"
   ]
  },
  {
   "cell_type": "markdown",
   "id": "8ae3cfd7",
   "metadata": {},
   "source": [
    "# Splitting the dataset into X and Y\n",
    "This function specifies how many previous values must be considered to find out the pattern, in order to predict a price. Accordingly, both, the training and testing datasets are split into X and Y."
   ]
  },
  {
   "cell_type": "code",
   "execution_count": 15,
   "id": "b31ccc1d",
   "metadata": {},
   "outputs": [],
   "source": [
    "def create_dataset(dataset, time_step=1):\n",
    "  data_X, data_Y = [], []\n",
    "  for i in range(len(dataset)-time_step-1):\n",
    "    a = dataset[i:(i + time_step), 0]   \n",
    "    data_X.append(a)\n",
    "    data_Y.append(dataset[i + time_step, 0])\n",
    "  return np.array(data_X), np.array(data_Y)\n",
    "\n",
    "time_step = 20\n",
    "X_train, y_train = create_dataset(train, 100)\n",
    "X_test, y_test = create_dataset(test, 100)"
   ]
  },
  {
   "cell_type": "code",
   "execution_count": 16,
   "id": "189bb11a",
   "metadata": {},
   "outputs": [],
   "source": [
    "X_train = X_train.reshape(X_train.shape[0],X_train.shape[1], 1)\n",
    "X_test = X_test.reshape(X_test.shape[0],X_test.shape[1], 1)"
   ]
  },
  {
   "cell_type": "code",
   "execution_count": 17,
   "id": "4200ea0a",
   "metadata": {},
   "outputs": [
    {
     "name": "stdout",
     "output_type": "stream",
     "text": [
      "Metal device set to: Apple M1 Max\n",
      "Model: \"sequential\"\n",
      "_________________________________________________________________\n",
      " Layer (type)                Output Shape              Param #   \n",
      "=================================================================\n",
      " simple_rnn (SimpleRNN)      (None, None, 20)          440       \n",
      "                                                                 \n",
      " simple_rnn_1 (SimpleRNN)    (None, None, 10)          310       \n",
      "                                                                 \n",
      " simple_rnn_2 (SimpleRNN)    (None, None, 5)           80        \n",
      "                                                                 \n",
      " dense (Dense)               (None, None, 3)           18        \n"
     ]
    },
    {
     "name": "stderr",
     "output_type": "stream",
     "text": [
      "2023-03-20 11:49:32.917736: I tensorflow/core/common_runtime/pluggable_device/pluggable_device_factory.cc:305] Could not identify NUMA node of platform GPU ID 0, defaulting to 0. Your kernel may not have been built with NUMA support.\n",
      "2023-03-20 11:49:32.917881: I tensorflow/core/common_runtime/pluggable_device/pluggable_device_factory.cc:271] Created TensorFlow device (/job:localhost/replica:0/task:0/device:GPU:0 with 0 MB memory) -> physical PluggableDevice (device: 0, name: METAL, pci bus id: <undefined>)\n"
     ]
    },
    {
     "name": "stdout",
     "output_type": "stream",
     "text": [
      "                                                                 \n",
      " dense_1 (Dense)             (None, None, 1)           4         \n",
      "                                                                 \n",
      "=================================================================\n",
      "Total params: 852\n",
      "Trainable params: 852\n",
      "Non-trainable params: 0\n",
      "_________________________________________________________________\n"
     ]
    }
   ],
   "source": [
    "from keras.models import Sequential\n",
    "from keras.layers import SimpleRNN, Dense\n",
    " \n",
    "model = Sequential([SimpleRNN(units=20, input_shape = [None,1], return_sequences = True),\n",
    "                    SimpleRNN(units=10, return_sequences = True),\n",
    "                    SimpleRNN(units=5, return_sequences = True),\n",
    "                    Dense(3),\n",
    "                   Dense(1)])\n",
    "model.compile(loss = 'mean_squared_error', optimizer = 'adam')\n",
    "model.summary()"
   ]
  },
  {
   "cell_type": "code",
   "execution_count": null,
   "id": "b43169a3",
   "metadata": {},
   "outputs": [
    {
     "name": "stdout",
     "output_type": "stream",
     "text": [
      "Epoch 1/20\n"
     ]
    },
    {
     "name": "stderr",
     "output_type": "stream",
     "text": [
      "2023-03-20 11:49:33.179354: W tensorflow/core/platform/profile_utils/cpu_utils.cc:128] Failed to get CPU frequency: 0 Hz\n",
      "2023-03-20 11:49:34.052350: I tensorflow/core/grappler/optimizers/custom_graph_optimizer_registry.cc:113] Plugin optimizer for device_type GPU is enabled.\n"
     ]
    },
    {
     "name": "stdout",
     "output_type": "stream",
     "text": [
      "128/128 [==============================] - ETA: 0s - loss: 0.0452 "
     ]
    },
    {
     "name": "stderr",
     "output_type": "stream",
     "text": [
      "2023-03-20 12:31:52.209477: I tensorflow/core/grappler/optimizers/custom_graph_optimizer_registry.cc:113] Plugin optimizer for device_type GPU is enabled.\n"
     ]
    },
    {
     "name": "stdout",
     "output_type": "stream",
     "text": [
      "128/128 [==============================] - 2593s 20s/step - loss: 0.0452 - val_loss: 0.9607\n",
      "Epoch 2/20\n",
      "128/128 [==============================] - 2478s 19s/step - loss: 0.0413 - val_loss: 0.8720\n",
      "Epoch 3/20\n",
      "128/128 [==============================] - 3690s 29s/step - loss: 0.0411 - val_loss: 0.8359\n",
      "Epoch 4/20\n",
      "103/128 [=======================>......] - ETA: 9:05 - loss: 0.0404"
     ]
    }
   ],
   "source": [
    "histora = model.fit(X_train, y_train, validation_data = (X_test, y_test), epochs = 20)"
   ]
  },
  {
   "cell_type": "code",
   "execution_count": null,
   "id": "a0434968",
   "metadata": {},
   "outputs": [],
   "source": [
    "def plot_history(history):\n",
    "    #acc = history.history['acc']\n",
    "    #val_acc = history.history['val_acc']\n",
    "    loss = history.history['loss']\n",
    "    val_loss = history.history['val_loss']\n",
    "    \n",
    "    epochs = range(1, len(loss) + 1)\n",
    "    \n",
    "    #plt.plot(epochs, acc, 'bo', label='Training acc')\n",
    "    #plt.plot(epochs, val_acc, 'b', label='Validation acc')\n",
    "    #plt.title('Training and validation accuracy')\n",
    "    #plt.legend()\n",
    "    \n",
    "    plt.figure()\n",
    "    \n",
    "    plt.plot(epochs, loss, 'bo', label='Training loss')\n",
    "    plt.plot(epochs, val_loss, 'b', label='Validation loss')\n",
    "    plt.title('Training and validation loss')\n",
    "    plt.legend()\n",
    "    plt.show()\n",
    "plot_history(histora)"
   ]
  },
  {
   "cell_type": "code",
   "execution_count": null,
   "id": "d6745eab",
   "metadata": {},
   "outputs": [],
   "source": [
    "test_predict = model.predict(X_test)\n",
    "test_predict[:10]"
   ]
  },
  {
   "cell_type": "markdown",
   "id": "ebd80f21",
   "metadata": {},
   "source": [
    "# Inversing Transformation\n",
    "Since we normalized the data earlier and converted all the values in the range 0 to 1, now we should inverse the transformation to get actual values. "
   ]
  },
  {
   "cell_type": "code",
   "execution_count": null,
   "id": "e92a07f1",
   "metadata": {},
   "outputs": [],
   "source": [
    "test_predict=scaler.inverse_transform(test_predict)"
   ]
  },
  {
   "cell_type": "markdown",
   "id": "ff174d39",
   "metadata": {},
   "source": [
    "# Visualizing the predictions\n",
    "Here we have plotted actual and predicted stock prices for the test dataset. We can see that the model is performing fine."
   ]
  },
  {
   "cell_type": "code",
   "execution_count": null,
   "id": "e3fe7d1a",
   "metadata": {},
   "outputs": [],
   "source": [
    "plt.figure(figsize = (15,4))\n",
    "plt.plot(scaler.inverse_transform(y_test.reshape(-1,1)), color = 'r', label = 'actual')\n",
    "plt.plot(test_predict, color = 'b',label = 'predicted')\n",
    "plt.legend()\n",
    "plt.show()"
   ]
  },
  {
   "cell_type": "markdown",
   "id": "569ba5cb",
   "metadata": {},
   "source": [
    "# Evaluating model\n",
    "For evaluation, we will be using root mean square values."
   ]
  },
  {
   "cell_type": "code",
   "execution_count": null,
   "id": "eb3111a2",
   "metadata": {},
   "outputs": [],
   "source": [
    "from sklearn.metrics import mean_squared_error\n",
    "mean_squared_error(y_test,test_predict, squared = False)"
   ]
  }
 ],
 "metadata": {
  "kernelspec": {
   "display_name": "Python 3 (ipykernel)",
   "language": "python",
   "name": "python3"
  },
  "language_info": {
   "codemirror_mode": {
    "name": "ipython",
    "version": 3
   },
   "file_extension": ".py",
   "mimetype": "text/x-python",
   "name": "python",
   "nbconvert_exporter": "python",
   "pygments_lexer": "ipython3",
   "version": "3.9.10"
  }
 },
 "nbformat": 4,
 "nbformat_minor": 5
}
